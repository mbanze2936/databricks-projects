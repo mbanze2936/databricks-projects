{
 "cells": [
  {
   "cell_type": "code",
   "execution_count": 0,
   "metadata": {
    "application/vnd.databricks.v1+cell": {
     "cellMetadata": {
      "byteLimit": 2048000,
      "rowLimit": 10000
     },
     "inputWidgets": {},
     "nuid": "76390844-1a46-40c4-879d-10edee0c7a11",
     "showTitle": false,
     "tableResultSettingsMap": {},
     "title": ""
    }
   },
   "outputs": [],
   "source": [
    "# Goal: Build a data pipeline that ingests and transforms movie rating data, producing insights like:\n",
    "# Popular movies\n",
    "# Active users\n",
    "# Genre preferences\n",
    "\n",
    "ratings = spark.read.option(\"delimiter\", \"\\t\") \\\n",
    "    .csv(\"/Volumes/workspace/default/data/u.data\") \\\n",
    "    .toDF(\"userId\", \"movieId\", \"rating\", \"timestamp\")\n",
    "\n",
    "ratings = ratings.withColumn(\"userId\", ratings[\"userId\"].cast(\"int\")) \\\n",
    "                 .withColumn(\"movieId\", ratings[\"movieId\"].cast(\"int\")) \\\n",
    "                 .withColumn(\"rating\", ratings[\"rating\"].cast(\"float\")) \\\n",
    "                 .withColumn(\"timestamp\", ratings[\"timestamp\"].cast(\"long\"))\n",
    "\n",
    "ratings.show(5)\n"
   ]
  },
  {
   "cell_type": "code",
   "execution_count": 0,
   "metadata": {
    "application/vnd.databricks.v1+cell": {
     "cellMetadata": {
      "byteLimit": 2048000,
      "rowLimit": 10000
     },
     "inputWidgets": {},
     "nuid": "e3a6d102-aa5e-4a9c-a2eb-6eab556236e2",
     "showTitle": false,
     "tableResultSettingsMap": {},
     "title": ""
    }
   },
   "outputs": [],
   "source": [
    "movie = spark.read.option(\"delimiter\", \"|\") \\\n",
    "    .csv(\"/Volumes/workspace/default/data/u.item\")\n",
    "\n",
    "\n",
    "movies = movie.selectExpr(\n",
    "    \"_c0 as movieId\", \"_c1 as title\", \"_c2 as release_date\", \"_c5 as imdb_url\"\n",
    ")\n",
    "\n",
    "movies = movies.withColumn(\"movieId\", movies[\"movieId\"].cast(\"int\"))\n",
    "\n",
    "movies.show(5)"
   ]
  },
  {
   "cell_type": "code",
   "execution_count": 0,
   "metadata": {
    "application/vnd.databricks.v1+cell": {
     "cellMetadata": {
      "byteLimit": 2048000,
      "rowLimit": 10000
     },
     "inputWidgets": {},
     "nuid": "f661326f-3ad0-45de-b09f-3a65691e5272",
     "showTitle": false,
     "tableResultSettingsMap": {},
     "title": ""
    }
   },
   "outputs": [],
   "source": [
    "df_joined = ratings.join(movies, on=\"movieId\", how=\"inner\")\n",
    "df_joined.show()"
   ]
  },
  {
   "cell_type": "code",
   "execution_count": 0,
   "metadata": {
    "application/vnd.databricks.v1+cell": {
     "cellMetadata": {
      "byteLimit": 2048000,
      "rowLimit": 10000
     },
     "inputWidgets": {},
     "nuid": "c02c4c67-931a-4efc-b90d-74087f1c8672",
     "showTitle": false,
     "tableResultSettingsMap": {},
     "title": ""
    }
   },
   "outputs": [],
   "source": [
    "# Most Popular Movies (by number of ratings)\n",
    "\n",
    "from pyspark.sql.functions import avg, count\n",
    "\n",
    "df_popular = df_joined.groupBy(\"title\").agg(count(\"rating\").alias(\"rating_count\")).orderBy(\"rating_count\", ascending=False)\n",
    "df_popular.show()"
   ]
  },
  {
   "cell_type": "code",
   "execution_count": 0,
   "metadata": {
    "application/vnd.databricks.v1+cell": {
     "cellMetadata": {
      "byteLimit": 2048000,
      "rowLimit": 10000
     },
     "inputWidgets": {},
     "nuid": "f3ca8d59-6fe3-453f-a3c7-12a06fb53030",
     "showTitle": false,
     "tableResultSettingsMap": {},
     "title": ""
    }
   },
   "outputs": [],
   "source": [
    "# Top Rated Movies (min 50 ratings)\n",
    "\n",
    "df_min50 =  df_popular.filter(\"rating_count >= 50\")\n",
    "display(df_min50)\n"
   ]
  },
  {
   "cell_type": "code",
   "execution_count": 0,
   "metadata": {
    "application/vnd.databricks.v1+cell": {
     "cellMetadata": {
      "byteLimit": 2048000,
      "rowLimit": 10000
     },
     "inputWidgets": {},
     "nuid": "4e947765-7546-4fcc-8371-a8c8b4f0a50a",
     "showTitle": false,
     "tableResultSettingsMap": {},
     "title": ""
    }
   },
   "outputs": [],
   "source": [
    "df_activeUsers = df_joined.groupBy(\"userId\").agg(count(\"rating\").alias(\"movies_rated\")).orderBy(\"movies_rated\", ascending=False)\n",
    "display(df_activeUsers)"
   ]
  },
  {
   "cell_type": "code",
   "execution_count": 0,
   "metadata": {
    "application/vnd.databricks.v1+cell": {
     "cellMetadata": {
      "byteLimit": 2048000,
      "rowLimit": 10000
     },
     "inputWidgets": {},
     "nuid": "d5bfea33-0737-4dab-b52b-7cce9394d3d4",
     "showTitle": false,
     "tableResultSettingsMap": {},
     "title": ""
    }
   },
   "outputs": [],
   "source": [
    "df_joined.createOrReplaceTempView(\"movie_data\")"
   ]
  },
  {
   "cell_type": "code",
   "execution_count": 0,
   "metadata": {
    "application/vnd.databricks.v1+cell": {
     "cellMetadata": {
      "byteLimit": 2048000,
      "implicitDf": true,
      "rowLimit": 10000
     },
     "inputWidgets": {},
     "nuid": "e0a1e0aa-a8d8-4697-b365-9e379872f230",
     "showTitle": false,
     "tableResultSettingsMap": {
      "0": {
       "dataGridStateBlob": "{\"version\":1,\"tableState\":{\"columnPinning\":{\"left\":[\"#row_number#\"],\"right\":[]},\"columnSizing\":{},\"columnVisibility\":{}},\"settings\":{\"columns\":{}},\"syncTimestamp\":1754643545525}",
       "filterBlob": null,
       "queryPlanFiltersBlob": null,
       "tableResultIndex": 0
      }
     },
     "title": ""
    }
   },
   "outputs": [],
   "source": [
    "%sql\n",
    "\n",
    "SELECT title, count(*) AS movie_ratings\n",
    "from movie_data\n",
    "GROUP BY title\n",
    "HAVING movie_ratings >= 50\n",
    "ORDER BY movie_ratings desc"
   ]
  }
 ],
 "metadata": {
  "application/vnd.databricks.v1+notebook": {
   "computePreferences": {
    "hardware": {
     "accelerator": null,
     "gpuPoolId": null,
     "memory": null
    }
   },
   "dashboards": [],
   "environmentMetadata": {
    "base_environment": "",
    "environment_version": "2"
   },
   "inputWidgetPreferences": null,
   "language": "python",
   "notebookMetadata": {
    "mostRecentlyExecutedCommandWithImplicitDF": {
     "commandId": 8813546388886655,
     "dataframes": [
      "_sqldf"
     ]
    },
    "pythonIndentUnit": 4
   },
   "notebookName": "Movie Recommendation Data Pipeline",
   "widgets": {}
  },
  "language_info": {
   "name": "python"
  }
 },
 "nbformat": 4,
 "nbformat_minor": 0
}
