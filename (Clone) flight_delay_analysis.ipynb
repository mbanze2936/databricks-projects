{
 "cells": [
  {
   "cell_type": "code",
   "execution_count": 0,
   "metadata": {
    "application/vnd.databricks.v1+cell": {
     "cellMetadata": {
      "byteLimit": 2048000,
      "rowLimit": 10000
     },
     "inputWidgets": {},
     "nuid": "e9acbb3d-b920-4217-92ff-ff69ebee3cf6",
     "showTitle": false,
     "tableResultSettingsMap": {},
     "title": ""
    }
   },
   "outputs": [
    {
     "output_type": "stream",
     "name": "stdout",
     "output_type": "stream",
     "text": [
      "root\n |-- Year: integer (nullable = true)\n |-- Month: integer (nullable = true)\n |-- DayofMonth: integer (nullable = true)\n |-- DayOfWeek: integer (nullable = true)\n |-- DepTime: string (nullable = true)\n |-- CRSDepTime: integer (nullable = true)\n |-- ArrTime: string (nullable = true)\n |-- CRSArrTime: integer (nullable = true)\n |-- UniqueCarrier: string (nullable = true)\n |-- FlightNum: integer (nullable = true)\n |-- TailNum: string (nullable = true)\n |-- ActualElapsedTime: string (nullable = true)\n |-- CRSElapsedTime: integer (nullable = true)\n |-- AirTime: string (nullable = true)\n |-- ArrDelay: string (nullable = true)\n |-- DepDelay: string (nullable = true)\n |-- Origin: string (nullable = true)\n |-- Dest: string (nullable = true)\n |-- Distance: string (nullable = true)\n |-- TaxiIn: string (nullable = true)\n |-- TaxiOut: string (nullable = true)\n |-- Cancelled: integer (nullable = true)\n |-- CancellationCode: string (nullable = true)\n |-- Diverted: integer (nullable = true)\n |-- CarrierDelay: string (nullable = true)\n |-- WeatherDelay: string (nullable = true)\n |-- NASDelay: string (nullable = true)\n |-- SecurityDelay: string (nullable = true)\n |-- LateAircraftDelay: string (nullable = true)\n |-- IsArrDelayed: string (nullable = true)\n |-- IsDepDelayed: string (nullable = true)\n\n"
     ]
    }
   ],
   "source": [
    "df = spark.read.csv(\"/databricks-datasets/airlines/part-00000\", header=True, inferSchema=True)\n",
    "df_clean = df.dropna(subset=[\"DepDelay\", \"ArrDelay\", \"Origin\", \"Dest\", \"UniqueCarrier\"])\n",
    "df_clean.printSchema()\n",
    "\n"
   ]
  },
  {
   "cell_type": "code",
   "execution_count": 0,
   "metadata": {
    "application/vnd.databricks.v1+cell": {
     "cellMetadata": {
      "byteLimit": 2048000,
      "rowLimit": 10000
     },
     "inputWidgets": {},
     "nuid": "c84e117c-e166-4185-9cb6-d8f81bc8896a",
     "showTitle": false,
     "tableResultSettingsMap": {},
     "title": ""
    }
   },
   "outputs": [
    {
     "output_type": "execute_result",
     "data": {
      "text/plain": [
       "Row(Year=1987, Month=10, DayofMonth=14, DayOfWeek=3, DepTime='741', CRSDepTime=730, ArrTime='912', CRSArrTime=849, UniqueCarrier='PS', FlightNum=1451, TailNum='NA', ActualElapsedTime='91', CRSElapsedTime=79, AirTime='NA', ArrDelay=23.0, DepDelay=11.0, Origin='SAN', Dest='SFO', Distance='447', TaxiIn='NA', TaxiOut='NA', Cancelled=0, CancellationCode='NA', Diverted=0, CarrierDelay='NA', WeatherDelay='NA', NASDelay='NA', SecurityDelay='NA', LateAircraftDelay='NA', IsArrDelayed='YES', IsDepDelayed='YES')"
      ]
     },
     "execution_count": 136,
     "metadata": {},
     "output_type": "execute_result"
    }
   ],
   "source": [
    "df.head()"
   ]
  },
  {
   "cell_type": "code",
   "execution_count": 0,
   "metadata": {
    "application/vnd.databricks.v1+cell": {
     "cellMetadata": {
      "byteLimit": 2048000,
      "rowLimit": 10000
     },
     "inputWidgets": {},
     "nuid": "25762c18-63bf-4b9f-b32a-08a11a27ab8e",
     "showTitle": false,
     "tableResultSettingsMap": {},
     "title": ""
    }
   },
   "outputs": [
    {
     "output_type": "stream",
     "name": "stdout",
     "output_type": "stream",
     "text": [
      "+-------------+---------------+-------------+\n|UniqueCarrier|Departure Delay|Arrival Delay|\n+-------------+---------------+-------------+\n|           CO|           4.92|         2.02|\n|           AA|           4.27|         2.44|\n|           WN|           7.24|          4.6|\n|           UA|           5.31|         5.37|\n|           TW|           5.03|         5.87|\n|           EA|           6.21|         6.27|\n|       PA (1)|           4.35|          7.4|\n|           PI|           6.17|         7.72|\n|           US|           5.72|         7.92|\n|           DL|           4.66|         8.16|\n|           NW|           4.87|          8.6|\n|           HP|            5.5|         9.31|\n|           AS|           7.01|         10.1|\n|           PS|          11.06|        15.11|\n+-------------+---------------+-------------+\n\n"
     ]
    }
   ],
   "source": [
    "from pyspark.sql.functions import col, when, avg, round\n",
    "\n",
    "# Average Departure & Arrival Delay per Airline\n",
    "df = df_clean \\\n",
    "    .withColumn(\"DepDelay\", when(col(\"DepDelay\") != \"NA\", col(\"DepDelay\").cast(\"double\"))) \\\n",
    "    .withColumn(\"ArrDelay\", when(col(\"ArrDelay\") != \"NA\", col(\"ArrDelay\").cast(\"double\")))\n",
    "\n",
    "df.groupBy(\"UniqueCarrier\").agg(\n",
    "    round(avg(\"DepDelay\"),2).alias(\"Departure Delay\"),\n",
    "    round(avg(\"ArrDelay\"), 2).alias(\"Arrival Delay\"))\\\n",
    "        .orderBy(avg(\"ArrDelay\"), ascending=True).show()"
   ]
  },
  {
   "cell_type": "code",
   "execution_count": 0,
   "metadata": {
    "application/vnd.databricks.v1+cell": {
     "cellMetadata": {
      "byteLimit": 2048000,
      "rowLimit": 10000
     },
     "inputWidgets": {},
     "nuid": "fa9d0072-75b7-4115-8aaa-009e187cb2b1",
     "showTitle": false,
     "tableResultSettingsMap": {},
     "title": ""
    }
   },
   "outputs": [
    {
     "output_type": "stream",
     "name": "stdout",
     "output_type": "stream",
     "text": [
      "+----+-------------+\n|Dest|Arrival_Delay|\n+----+-------------+\n| TVL|        25.15|\n| RDD|        20.14|\n| ACV|        18.52|\n| YKM|        18.23|\n| ROR|        17.04|\n| CDV|         17.0|\n| WRG|        16.43|\n| SFO|        16.24|\n| YAK|        15.72|\n| LMT|        15.42|\n| PSG|        14.73|\n| SIT|         14.7|\n| PIE|        14.29|\n| BLI|         14.1|\n| BET|         13.2|\n| STT|        13.04|\n| MRY|        12.77|\n| SNA|        12.27|\n| AVL|        12.17|\n| LYH|        12.15|\n+----+-------------+\nonly showing top 20 rows\n"
     ]
    }
   ],
   "source": [
    "# Worst Airports for Arrival Delays\n",
    "\n",
    "df.groupBy(\"Dest\").agg(round(avg(\"ArrDelay\"),2).alias(\"Arrival_Delay\"))\\\n",
    "    .orderBy(\"Arrival_Delay\", ascending=False)\\\n",
    "        .show()\n"
   ]
  },
  {
   "cell_type": "code",
   "execution_count": 0,
   "metadata": {
    "application/vnd.databricks.v1+cell": {
     "cellMetadata": {
      "byteLimit": 2048000,
      "rowLimit": 10000
     },
     "inputWidgets": {},
     "nuid": "ab24f881-8a34-4428-9243-b45a6701cef9",
     "showTitle": false,
     "tableResultSettingsMap": {},
     "title": ""
    }
   },
   "outputs": [
    {
     "output_type": "stream",
     "name": "stdout",
     "output_type": "stream",
     "text": [
      "+-----+-------------+---------------+\n|Month|Arrival_Delay|Departure_Delay|\n+-----+-------------+---------------+\n|   10|          6.0|           5.06|\n|   11|         8.05|           6.91|\n+-----+-------------+---------------+\n\n"
     ]
    }
   ],
   "source": [
    "#  Monthly Delay Patterns\n",
    "\n",
    "df.groupBy(\"Month\") \\\n",
    "    .agg(round(avg(\"ArrDelay\"),2).alias(\"Arrival_Delay\"), \n",
    "        round(avg(\"DepDelay\"),2).alias(\"Departure_Delay\")) \\\n",
    "        .orderBy(\"Month\") \\\n",
    "            .show()"
   ]
  },
  {
   "cell_type": "code",
   "execution_count": 0,
   "metadata": {
    "application/vnd.databricks.v1+cell": {
     "cellMetadata": {
      "byteLimit": 2048000,
      "rowLimit": 10000
     },
     "inputWidgets": {},
     "nuid": "77d0204d-cfaf-4785-97b6-dbd078409fdd",
     "showTitle": false,
     "tableResultSettingsMap": {},
     "title": ""
    }
   },
   "outputs": [
    {
     "output_type": "display_data",
     "data": {
      "text/html": [
       "<style scoped>\n",
       "  .table-result-container {\n",
       "    max-height: 300px;\n",
       "    overflow: auto;\n",
       "  }\n",
       "  table, th, td {\n",
       "    border: 1px solid black;\n",
       "    border-collapse: collapse;\n",
       "  }\n",
       "  th, td {\n",
       "    padding: 5px;\n",
       "  }\n",
       "  th {\n",
       "    text-align: left;\n",
       "  }\n",
       "</style><div class='table-result-container'><table class='table-result'><thead style='background-color: white'><tr><th>Month</th><th>AvgArrDelay</th></tr></thead><tbody><tr><td>10</td><td>6.004721435316336</td></tr><tr><td>11</td><td>8.049828355294263</td></tr></tbody></table></div>"
      ]
     },
     "metadata": {
      "application/vnd.databricks.v1+output": {
       "addedWidgets": {},
       "aggData": [],
       "aggError": "",
       "aggOverflow": false,
       "aggSchema": [],
       "aggSeriesLimitReached": false,
       "aggType": "",
       "arguments": {},
       "columnCustomDisplayInfos": {},
       "data": [
        [
         10,
         6.004721435316336
        ],
        [
         11,
         8.049828355294263
        ]
       ],
       "datasetInfos": [],
       "dbfsResultPath": null,
       "isJsonSchema": true,
       "metadata": {},
       "overflow": false,
       "plotOptions": {
        "customPlotOptions": {},
        "displayType": "table",
        "pivotAggregation": null,
        "pivotColumns": null,
        "xColumns": null,
        "yColumns": null
       },
       "removedWidgets": [],
       "schema": [
        {
         "metadata": "{}",
         "name": "Month",
         "type": "\"integer\""
        },
        {
         "metadata": "{}",
         "name": "AvgArrDelay",
         "type": "\"double\""
        }
       ],
       "type": "table"
      }
     },
     "output_type": "display_data"
    }
   ],
   "source": [
    "display(df.groupBy(\"Month\").agg(avg(\"ArrDelay\").alias(\"AvgArrDelay\")))\n"
   ]
  },
  {
   "cell_type": "code",
   "execution_count": 0,
   "metadata": {
    "application/vnd.databricks.v1+cell": {
     "cellMetadata": {
      "byteLimit": 2048000,
      "rowLimit": 10000
     },
     "inputWidgets": {},
     "nuid": "3deec4b2-bd14-4e63-89b6-52fd85c2e3c2",
     "showTitle": false,
     "tableResultSettingsMap": {},
     "title": ""
    }
   },
   "outputs": [],
   "source": [
    "df.createOrReplaceTempView(\"Flights\")"
   ]
  },
  {
   "cell_type": "code",
   "execution_count": 0,
   "metadata": {
    "application/vnd.databricks.v1+cell": {
     "cellMetadata": {
      "byteLimit": 2048000,
      "implicitDf": true,
      "rowLimit": 10000
     },
     "inputWidgets": {},
     "nuid": "69aea1ad-2b3a-4790-ab64-132815384fe9",
     "showTitle": false,
     "tableResultSettingsMap": {},
     "title": ""
    }
   },
   "outputs": [
    {
     "output_type": "display_data",
     "data": {
      "text/html": [
       "<style scoped>\n",
       "  .table-result-container {\n",
       "    max-height: 300px;\n",
       "    overflow: auto;\n",
       "  }\n",
       "  table, th, td {\n",
       "    border: 1px solid black;\n",
       "    border-collapse: collapse;\n",
       "  }\n",
       "  th, td {\n",
       "    padding: 5px;\n",
       "  }\n",
       "  th {\n",
       "    text-align: left;\n",
       "  }\n",
       "</style><div class='table-result-container'><table class='table-result'><thead style='background-color: white'><tr><th>Month</th><th>Arrival_Delay</th></tr></thead><tbody><tr><td>10</td><td>6.004721435316336</td></tr><tr><td>11</td><td>8.049828355294263</td></tr></tbody></table></div>"
      ]
     },
     "metadata": {
      "application/vnd.databricks.v1+output": {
       "addedWidgets": {},
       "aggData": [],
       "aggError": "",
       "aggOverflow": false,
       "aggSchema": [],
       "aggSeriesLimitReached": false,
       "aggType": "",
       "arguments": {},
       "columnCustomDisplayInfos": {},
       "data": [
        [
         10,
         6.004721435316336
        ],
        [
         11,
         8.049828355294263
        ]
       ],
       "datasetInfos": [
        {
         "name": "_sqldf",
         "schema": {
          "fields": [
           {
            "metadata": {},
            "name": "Month",
            "nullable": true,
            "type": "integer"
           },
           {
            "metadata": {},
            "name": "Arrival_Delay",
            "nullable": true,
            "type": "double"
           }
          ],
          "type": "struct"
         },
         "tableIdentifier": null,
         "typeStr": "pyspark.sql.connect.dataframe.DataFrame"
        }
       ],
       "dbfsResultPath": null,
       "isJsonSchema": true,
       "metadata": {
        "createTempViewForImplicitDf": true,
        "dataframeName": "_sqldf",
        "executionCount": 187
       },
       "overflow": false,
       "plotOptions": {
        "customPlotOptions": {},
        "displayType": "table",
        "pivotAggregation": null,
        "pivotColumns": null,
        "xColumns": null,
        "yColumns": null
       },
       "removedWidgets": [],
       "schema": [
        {
         "metadata": "{}",
         "name": "Month",
         "type": "\"integer\""
        },
        {
         "metadata": "{}",
         "name": "Arrival_Delay",
         "type": "\"double\""
        }
       ],
       "type": "table"
      }
     },
     "output_type": "display_data"
    }
   ],
   "source": [
    "%sql\n",
    "SELECT Month, AVG(ArrDelay) AS Arrival_Delay\n",
    "FROM Flights\n",
    "GROUP BY Month\n",
    "ORDER BY Month\n"
   ]
  }
 ],
 "metadata": {
  "application/vnd.databricks.v1+notebook": {
   "computePreferences": {
    "hardware": {
     "accelerator": null,
     "gpuPoolId": null,
     "memory": null
    }
   },
   "dashboards": [],
   "environmentMetadata": {
    "base_environment": "",
    "environment_version": "2"
   },
   "inputWidgetPreferences": null,
   "language": "python",
   "notebookMetadata": {
    "mostRecentlyExecutedCommandWithImplicitDF": {
     "commandId": 7690396593068329,
     "dataframes": [
      "_sqldf"
     ]
    },
    "pythonIndentUnit": 4
   },
   "notebookName": "(Clone) flight_delay_analysis",
   "widgets": {}
  },
  "language_info": {
   "name": "python"
  }
 },
 "nbformat": 4,
 "nbformat_minor": 0
}